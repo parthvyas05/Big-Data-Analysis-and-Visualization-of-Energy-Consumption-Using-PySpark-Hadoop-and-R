{
  "nbformat": 4,
  "nbformat_minor": 0,
  "metadata": {
    "colab": {
      "provenance": []
    },
    "kernelspec": {
      "name": "python3",
      "display_name": "Python 3"
    },
    "language_info": {
      "name": "python"
    }
  },
  "cells": [
    {
      "cell_type": "code",
      "execution_count": null,
      "metadata": {
        "colab": {
          "base_uri": "https://localhost:8080/"
        },
        "id": "u6CR_wJPWgkZ",
        "outputId": "e5824ff4-d5db-493f-d04c-eca66f0eb34f"
      },
      "outputs": [
        {
          "output_type": "stream",
          "name": "stdout",
          "text": [
            "Collecting pyspark\n",
            "  Downloading pyspark-3.5.0.tar.gz (316.9 MB)\n",
            "\u001b[2K     \u001b[90m━━━━━━━━━━━━━━━━━━━━━━━━━━━━━━━━━━━━━━━━\u001b[0m \u001b[32m316.9/316.9 MB\u001b[0m \u001b[31m2.6 MB/s\u001b[0m eta \u001b[36m0:00:00\u001b[0m\n",
            "\u001b[?25h  Preparing metadata (setup.py) ... \u001b[?25l\u001b[?25hdone\n",
            "Requirement already satisfied: py4j==0.10.9.7 in /usr/local/lib/python3.10/dist-packages (from pyspark) (0.10.9.7)\n",
            "Building wheels for collected packages: pyspark\n",
            "  Building wheel for pyspark (setup.py) ... \u001b[?25l\u001b[?25hdone\n",
            "  Created wheel for pyspark: filename=pyspark-3.5.0-py2.py3-none-any.whl size=317425344 sha256=e6031c97fd2fc6836d119f31532ad14f6cf200ebbdf90ace0b4c050ed9295d97\n",
            "  Stored in directory: /root/.cache/pip/wheels/41/4e/10/c2cf2467f71c678cfc8a6b9ac9241e5e44a01940da8fbb17fc\n",
            "Successfully built pyspark\n",
            "Installing collected packages: pyspark\n",
            "Successfully installed pyspark-3.5.0\n"
          ]
        }
      ],
      "source": [
        "!pip install pyspark"
      ]
    },
    {
      "cell_type": "code",
      "source": [
        "import pandas as pd\n",
        "import numpy as np\n",
        "import matplotlib.pyplot as plt\n",
        "from statsmodels.tsa.stattools import adfuller\n",
        "from statsmodels.graphics.tsaplots import plot_acf, plot_pacf\n",
        "import pyspark\n"
      ],
      "metadata": {
        "id": "DK5mFDgkW2Yd"
      },
      "execution_count": null,
      "outputs": []
    },
    {
      "cell_type": "code",
      "source": [
        "from pyspark.sql import SparkSession"
      ],
      "metadata": {
        "id": "E3oxfvV7Xbbn"
      },
      "execution_count": null,
      "outputs": []
    },
    {
      "cell_type": "code",
      "source": [
        "from pyspark.sql import SparkSession\n",
        "spark = SparkSession.builder\\\n",
        "        .appName(\"Colab\")\\\n",
        "        .getOrCreate()"
      ],
      "metadata": {
        "id": "shhl6KCUQlWP"
      },
      "execution_count": null,
      "outputs": []
    },
    {
      "cell_type": "code",
      "source": [
        "#  .master(\"local\")\\.config('spark.ui.port', '4050') \\ (Configuring the Spark UI port in PySpark allows you to specify which port the Spark User Interface (UI) will listen on.\n",
        "#The Spark UI is a web-based dashboard that provides valuable information and insights into the status and progress of your Spark application. ) http://localhost:4050"
      ],
      "metadata": {
        "id": "XYG5P1MZUQ78"
      },
      "execution_count": null,
      "outputs": []
    },
    {
      "cell_type": "code",
      "source": [
        "spark"
      ],
      "metadata": {
        "colab": {
          "base_uri": "https://localhost:8080/",
          "height": 222
        },
        "id": "sfRlzv32QsuA",
        "outputId": "aca1bd8d-1f96-49d1-9ccf-fcee170cfc67"
      },
      "execution_count": null,
      "outputs": [
        {
          "output_type": "execute_result",
          "data": {
            "text/plain": [
              "<pyspark.sql.session.SparkSession at 0x7ba1a89c3220>"
            ],
            "text/html": [
              "\n",
              "            <div>\n",
              "                <p><b>SparkSession - in-memory</b></p>\n",
              "                \n",
              "        <div>\n",
              "            <p><b>SparkContext</b></p>\n",
              "\n",
              "            <p><a href=\"http://1f933b43dd9a:4040\">Spark UI</a></p>\n",
              "\n",
              "            <dl>\n",
              "              <dt>Version</dt>\n",
              "                <dd><code>v3.5.0</code></dd>\n",
              "              <dt>Master</dt>\n",
              "                <dd><code>local</code></dd>\n",
              "              <dt>AppName</dt>\n",
              "                <dd><code>Colab</code></dd>\n",
              "            </dl>\n",
              "        </div>\n",
              "        \n",
              "            </div>\n",
              "        "
            ]
          },
          "metadata": {},
          "execution_count": 6
        }
      ]
    },
    {
      "cell_type": "code",
      "source": [
        "\n",
        "df  = spark.read.csv(\"SM Cleaned Data BR Aggregated.csv\", header=True, inferSchema=True)\n"
      ],
      "metadata": {
        "id": "NnneVUA5W-25"
      },
      "execution_count": null,
      "outputs": []
    },
    {
      "cell_type": "code",
      "source": [
        "historical_data  = spark.read.csv(\"SM Cleaned Data BR Aggregated.csv\", header=True, inferSchema=True)\n"
      ],
      "metadata": {
        "id": "q_-49qjOd440"
      },
      "execution_count": null,
      "outputs": []
    },
    {
      "cell_type": "code",
      "source": [
        "df.show()"
      ],
      "metadata": {
        "colab": {
          "base_uri": "https://localhost:8080/"
        },
        "id": "hdhZ4KgkQ2Jm",
        "outputId": "e44cbb01-85fa-41f1-9960-3647fc7e0e6a"
      },
      "execution_count": null,
      "outputs": [
        {
          "output_type": "stream",
          "name": "stdout",
          "text": [
            "+-----+----------+------------------+\n",
            "|meter|      Date|             t_kWh|\n",
            "+-----+----------+------------------+\n",
            "| BR02|2019-07-10| 6.959999999999997|\n",
            "| BR02|2019-07-11| 4.910999999999991|\n",
            "| BR02|2019-07-13| 5.872999999999988|\n",
            "| BR02|2019-07-14| 5.457999999999984|\n",
            "| BR02|2019-07-15| 4.859999999999995|\n",
            "| BR02|2019-07-16| 4.281999999999985|\n",
            "| BR02|2019-07-17| 4.421999999999985|\n",
            "| BR02|2019-07-18|  4.33699999999998|\n",
            "| BR02|2019-07-19| 5.441999999999984|\n",
            "| BR02|2019-07-20| 5.650999999999988|\n",
            "| BR02|2019-07-30| 5.847999999999994|\n",
            "| BR02|2019-07-31|5.8319999999999865|\n",
            "| BR02|2019-08-01| 5.006999999999988|\n",
            "| BR02|2019-08-04| 7.383999999999983|\n",
            "| BR02|2019-08-05| 6.977999999999994|\n",
            "| BR02|2019-08-06|5.2839999999999945|\n",
            "| BR02|2019-08-07| 5.651999999999995|\n",
            "| BR02|2019-08-08|4.7749999999999835|\n",
            "| BR02|2019-08-09| 5.005999999999984|\n",
            "| BR02|2019-08-10|5.8899999999999775|\n",
            "+-----+----------+------------------+\n",
            "only showing top 20 rows\n",
            "\n"
          ]
        }
      ]
    },
    {
      "cell_type": "code",
      "source": [
        "df = df.na.drop()"
      ],
      "metadata": {
        "id": "qHsiw-KnQz8X"
      },
      "execution_count": null,
      "outputs": []
    },
    {
      "cell_type": "code",
      "source": [
        "df.count()"
      ],
      "metadata": {
        "colab": {
          "base_uri": "https://localhost:8080/"
        },
        "id": "YBi6wuweQ8xB",
        "outputId": "dc2b00d8-d355-4e94-c3da-9d027d75509c"
      },
      "execution_count": null,
      "outputs": [
        {
          "output_type": "execute_result",
          "data": {
            "text/plain": [
              "28119"
            ]
          },
          "metadata": {},
          "execution_count": 11
        }
      ]
    },
    {
      "cell_type": "code",
      "source": [
        "df.printSchema()\n"
      ],
      "metadata": {
        "colab": {
          "base_uri": "https://localhost:8080/"
        },
        "id": "z9F2j7itRXgw",
        "outputId": "31528062-242a-4e15-d916-1c0c1997eac0"
      },
      "execution_count": null,
      "outputs": [
        {
          "output_type": "stream",
          "name": "stdout",
          "text": [
            "root\n",
            " |-- meter: string (nullable = true)\n",
            " |-- Date: date (nullable = true)\n",
            " |-- t_kWh: double (nullable = true)\n",
            "\n"
          ]
        }
      ]
    },
    {
      "cell_type": "code",
      "source": [
        "df.describe().show()"
      ],
      "metadata": {
        "colab": {
          "base_uri": "https://localhost:8080/"
        },
        "id": "bOnibvWpReVv",
        "outputId": "1eb17a0c-719e-4288-c143-25b58133abb2"
      },
      "execution_count": null,
      "outputs": [
        {
          "output_type": "stream",
          "name": "stdout",
          "text": [
            "+-------+-----+-----------------+\n",
            "|summary|meter|            t_kWh|\n",
            "+-------+-----+-----------------+\n",
            "|  count|28119|            28119|\n",
            "|   mean| NULL| 8.20758266652449|\n",
            "| stddev| NULL|7.719020205928047|\n",
            "|    min| BR02|              0.0|\n",
            "|    max| BR52|82.62199999999989|\n",
            "+-------+-----+-----------------+\n",
            "\n"
          ]
        }
      ]
    },
    {
      "cell_type": "code",
      "source": [
        "df.select(\"meter\").distinct().show()"
      ],
      "metadata": {
        "colab": {
          "base_uri": "https://localhost:8080/"
        },
        "id": "-yaVdwDCRlVy",
        "outputId": "fd2816c4-d941-4d41-f19c-aa4a795ff88c"
      },
      "execution_count": null,
      "outputs": [
        {
          "output_type": "stream",
          "name": "stdout",
          "text": [
            "+-----+\n",
            "|meter|\n",
            "+-----+\n",
            "| BR09|\n",
            "| BR26|\n",
            "| BR04|\n",
            "| BR34|\n",
            "| BR24|\n",
            "| BR12|\n",
            "| BR27|\n",
            "| BR45|\n",
            "| BR20|\n",
            "| BR06|\n",
            "| BR51|\n",
            "| BR05|\n",
            "| BR16|\n",
            "| BR30|\n",
            "| BR14|\n",
            "| BR31|\n",
            "| BR37|\n",
            "| BR10|\n",
            "| BR23|\n",
            "| BR13|\n",
            "+-----+\n",
            "only showing top 20 rows\n",
            "\n"
          ]
        }
      ]
    },
    {
      "cell_type": "code",
      "source": [
        "from pyspark.sql.functions import year, month, dayofweek\n",
        "\n",
        "# Extract year, month, and day of the week as features\n",
        "df = df.withColumn(\"Year\", year(\"Date\"))\n",
        "df = df.withColumn(\"Month\", month(\"Date\"))\n",
        "df = df.withColumn(\"DayOfWeek\", dayofweek(\"Date\"))\n",
        "\n",
        "# Show the DataFrame with added time-based features\n",
        "df.show()\n"
      ],
      "metadata": {
        "colab": {
          "base_uri": "https://localhost:8080/"
        },
        "id": "6L3mtT5UYrBE",
        "outputId": "77b55e32-edaf-4c16-e3bd-8b6bcbf62231"
      },
      "execution_count": null,
      "outputs": [
        {
          "output_type": "stream",
          "name": "stdout",
          "text": [
            "+-----+----------+------------------+----+-----+---------+\n",
            "|meter|      Date|             t_kWh|Year|Month|DayOfWeek|\n",
            "+-----+----------+------------------+----+-----+---------+\n",
            "| BR02|2019-07-10| 6.959999999999997|2019|    7|        4|\n",
            "| BR02|2019-07-11| 4.910999999999991|2019|    7|        5|\n",
            "| BR02|2019-07-13| 5.872999999999988|2019|    7|        7|\n",
            "| BR02|2019-07-14| 5.457999999999984|2019|    7|        1|\n",
            "| BR02|2019-07-15| 4.859999999999995|2019|    7|        2|\n",
            "| BR02|2019-07-16| 4.281999999999985|2019|    7|        3|\n",
            "| BR02|2019-07-17| 4.421999999999985|2019|    7|        4|\n",
            "| BR02|2019-07-18|  4.33699999999998|2019|    7|        5|\n",
            "| BR02|2019-07-19| 5.441999999999984|2019|    7|        6|\n",
            "| BR02|2019-07-20| 5.650999999999988|2019|    7|        7|\n",
            "| BR02|2019-07-30| 5.847999999999994|2019|    7|        3|\n",
            "| BR02|2019-07-31|5.8319999999999865|2019|    7|        4|\n",
            "| BR02|2019-08-01| 5.006999999999988|2019|    8|        5|\n",
            "| BR02|2019-08-04| 7.383999999999983|2019|    8|        1|\n",
            "| BR02|2019-08-05| 6.977999999999994|2019|    8|        2|\n",
            "| BR02|2019-08-06|5.2839999999999945|2019|    8|        3|\n",
            "| BR02|2019-08-07| 5.651999999999995|2019|    8|        4|\n",
            "| BR02|2019-08-08|4.7749999999999835|2019|    8|        5|\n",
            "| BR02|2019-08-09| 5.005999999999984|2019|    8|        6|\n",
            "| BR02|2019-08-10|5.8899999999999775|2019|    8|        7|\n",
            "+-----+----------+------------------+----+-----+---------+\n",
            "only showing top 20 rows\n",
            "\n"
          ]
        }
      ]
    },
    {
      "cell_type": "markdown",
      "source": [
        " The dayofweek function is used to extract the day of the week (as an integer, where Sunday is 1 and Saturday is 7) from the \"Date\" column and populate the \"DayOfWeek\" column with these values."
      ],
      "metadata": {
        "id": "R0WgNL4FU8aH"
      }
    },
    {
      "cell_type": "code",
      "source": [
        "from pyspark.sql import functions as F\n",
        "# Group by the \"Year\" column and aggregate the sum of \"t_kWh\"\n",
        "yearly_aggregated = df.groupBy(\"Year\").agg(F.sum(\"t_kWh\").alias(\"Total_t_kWh\"))\n",
        "\n",
        "# Show the aggregated DataFrame\n",
        "yearly_aggregated.show()"
      ],
      "metadata": {
        "colab": {
          "base_uri": "https://localhost:8080/"
        },
        "id": "zOzwbRi9Rxgi",
        "outputId": "098c9e49-f73f-4a9e-a347-4e4a1e950baf"
      },
      "execution_count": null,
      "outputs": [
        {
          "output_type": "stream",
          "name": "stdout",
          "text": [
            "+----+------------------+\n",
            "|Year|       Total_t_kWh|\n",
            "+----+------------------+\n",
            "|2019| 43295.06199999978|\n",
            "|2020|110862.38499999988|\n",
            "|2021| 76631.56999999995|\n",
            "+----+------------------+\n",
            "\n"
          ]
        }
      ]
    },
    {
      "cell_type": "markdown",
      "source": [
        " functions module from PySpark as F. It allows you to use PySpark's built-in functions for data transformations and aggregations. aggregate the grouped data by calculating the sum of the \"t_kWh\" column for each group (i.e., for each year). The alias function is used to rename the resulting aggregation column to \"Total_t_kWh"
      ],
      "metadata": {
        "id": "i3STr7QVVKi5"
      }
    },
    {
      "cell_type": "code",
      "source": [
        "# Group by \"Year\" and \"Month\" columns and aggregate the sum of \"t_kWh\"\n",
        "yearly_monthly_aggregated = df.groupBy(\"Year\", \"Month\").agg(F.sum(\"t_kWh\").alias(\"Total_t_kWh\"))\n",
        "\n",
        "# Order by \"Year\" and then by \"Month\"\n",
        "yearly_monthly_aggregated = yearly_monthly_aggregated.orderBy(\"Year\", \"Month\")\n",
        "\n",
        "# Get unique years from the DataFrame\n",
        "years = yearly_monthly_aggregated.select(\"Year\").distinct().rdd.flatMap(lambda x: x).collect()\n",
        "#.rdd.flatMap(lambda x: x) is used to flatten the distinct values, which are stored in a DataFrame, into a flat list.\n",
        "\n",
        "# Loop through each year and print the data for that year\n",
        "for year in years:\n",
        "    print(f\"Year {year}:\")\n",
        "    yearly_data = yearly_monthly_aggregated.filter(yearly_monthly_aggregated[\"Year\"] == year)\n",
        "    yearly_data.show()"
      ],
      "metadata": {
        "colab": {
          "base_uri": "https://localhost:8080/"
        },
        "id": "mX3fEKckSdHN",
        "outputId": "863a9065-5f26-4564-ed23-fbc8a4dec192"
      },
      "execution_count": null,
      "outputs": [
        {
          "output_type": "stream",
          "name": "stdout",
          "text": [
            "Year 2019:\n",
            "+----+-----+------------------+\n",
            "|Year|Month|       Total_t_kWh|\n",
            "+----+-----+------------------+\n",
            "|2019|    5| 308.6099999999997|\n",
            "|2019|    6| 459.6659999999996|\n",
            "|2019|    7| 3178.816999999997|\n",
            "|2019|    8| 9876.701999999987|\n",
            "|2019|    9|10708.592000000002|\n",
            "|2019|   10| 7527.386999999978|\n",
            "|2019|   11| 5262.442999999988|\n",
            "|2019|   12|5972.8450000000075|\n",
            "+----+-----+------------------+\n",
            "\n",
            "Year 2020:\n",
            "+----+-----+------------------+\n",
            "|Year|Month|       Total_t_kWh|\n",
            "+----+-----+------------------+\n",
            "|2020|    1| 7041.726999999996|\n",
            "|2020|    2| 5512.663999999983|\n",
            "|2020|    3| 5704.185999999984|\n",
            "|2020|    4| 8163.276999999987|\n",
            "|2020|    5|10726.192999999985|\n",
            "|2020|    6|14669.429999999977|\n",
            "|2020|    7|         13810.638|\n",
            "|2020|    8| 13476.67100000001|\n",
            "|2020|    9| 11913.70399999998|\n",
            "|2020|   10| 9022.416999999987|\n",
            "|2020|   11| 4795.527999999992|\n",
            "|2020|   12|6025.9499999999825|\n",
            "+----+-----+------------------+\n",
            "\n",
            "Year 2021:\n",
            "+----+-----+------------------+\n",
            "|Year|Month|       Total_t_kWh|\n",
            "+----+-----+------------------+\n",
            "|2021|    1| 7283.801999999997|\n",
            "|2021|    2| 4968.371999999985|\n",
            "|2021|    3| 5091.936999999985|\n",
            "|2021|    4| 6220.566999999996|\n",
            "|2021|    5| 7772.721999999984|\n",
            "|2021|    6| 9552.595999999989|\n",
            "|2021|    7|10717.079999999989|\n",
            "|2021|    8| 9502.149999999996|\n",
            "|2021|    9| 8506.508999999993|\n",
            "|2021|   10|  7015.83499999999|\n",
            "+----+-----+------------------+\n",
            "\n"
          ]
        }
      ]
    },
    {
      "cell_type": "code",
      "source": [
        "\n",
        "# Count and display the number of null values in each column\n",
        "null_counts = df.select([F.count(F.when(F.isnull(c), c)).alias(c) for c in df.columns])\n",
        "null_counts.show()"
      ],
      "metadata": {
        "colab": {
          "base_uri": "https://localhost:8080/"
        },
        "id": "mCdJkt8RTA1D",
        "outputId": "8b2797c9-cd00-4ccb-b4c4-ab1eb84e8bb1"
      },
      "execution_count": null,
      "outputs": [
        {
          "output_type": "stream",
          "name": "stdout",
          "text": [
            "+-----+----+-----+----+-----+---------+\n",
            "|meter|Date|t_kWh|Year|Month|DayOfWeek|\n",
            "+-----+----+-----+----+-----+---------+\n",
            "|    0|   0|    0|   0|    0|        0|\n",
            "+-----+----+-----+----+-----+---------+\n",
            "\n"
          ]
        }
      ]
    },
    {
      "cell_type": "code",
      "source": [
        "\n",
        "(df.count() , len(df.columns))"
      ],
      "metadata": {
        "colab": {
          "base_uri": "https://localhost:8080/"
        },
        "id": "4dO8yGIsTA7_",
        "outputId": "991abeb3-e0cc-49d5-b590-502756afcc05"
      },
      "execution_count": null,
      "outputs": [
        {
          "output_type": "execute_result",
          "data": {
            "text/plain": [
              "(28119, 6)"
            ]
          },
          "metadata": {},
          "execution_count": 19
        }
      ]
    },
    {
      "cell_type": "markdown",
      "source": [
        "The StringIndexer is used to convert categorical or string values into numerical labels. The OneHotEncoder is used to convert categorical values, which have been indexed by the StringIndexer or other methods, into a binary vector (0 or 1) representation.\n",
        "Original Categorical Data:\n",
        "\n",
        "\"Color\": [\"Red\", \"Green\", \"Blue\", \"Red\", \"Blue\"]\n",
        "After StringIndexer (assigning unique numerical labels):\n",
        "\n",
        "\"ColorIndex\": [0, 1, 2, 0, 2]\n",
        "After OneHotEncoder (creating binary vectors):\n",
        "\n",
        "\"ColorVector\": [ [1, 0, 0], [0, 1, 0], [0, 0, 1], [1, 0, 0], [0, 0, 1] ]"
      ],
      "metadata": {
        "id": "K9PWapsOWzhk"
      }
    },
    {
      "cell_type": "code",
      "source": [
        "from pyspark.ml.feature import StringIndexer, OneHotEncoder\n",
        "# Create StringIndexer objects for your columns\n",
        "SI_meter = StringIndexer(inputCol='meter', outputCol='meter_indexed')\n",
        "\n",
        "# Transform the data\n",
        "df = SI_meter.fit(df).transform(df)\n",
        "\n",
        "# View the transformed data\n",
        "df.select('meter', 'meter_indexed').show(10)"
      ],
      "metadata": {
        "colab": {
          "base_uri": "https://localhost:8080/"
        },
        "id": "KFCDsihHT1yD",
        "outputId": "10657223-ea20-473f-a4b6-2a3b1919858e"
      },
      "execution_count": null,
      "outputs": [
        {
          "output_type": "stream",
          "name": "stdout",
          "text": [
            "+-----+-------------+\n",
            "|meter|meter_indexed|\n",
            "+-----+-------------+\n",
            "| BR02|         37.0|\n",
            "| BR02|         37.0|\n",
            "| BR02|         37.0|\n",
            "| BR02|         37.0|\n",
            "| BR02|         37.0|\n",
            "| BR02|         37.0|\n",
            "| BR02|         37.0|\n",
            "| BR02|         37.0|\n",
            "| BR02|         37.0|\n",
            "| BR02|         37.0|\n",
            "+-----+-------------+\n",
            "only showing top 10 rows\n",
            "\n"
          ]
        }
      ]
    },
    {
      "cell_type": "code",
      "source": [
        "df.show()"
      ],
      "metadata": {
        "colab": {
          "base_uri": "https://localhost:8080/"
        },
        "id": "ugZ0V3qwT15m",
        "outputId": "fbd01349-e39d-4b3e-f1f6-81cd0135a585"
      },
      "execution_count": null,
      "outputs": [
        {
          "output_type": "stream",
          "name": "stdout",
          "text": [
            "+-----+----------+------------------+----+-----+---------+-------------+\n",
            "|meter|      Date|             t_kWh|Year|Month|DayOfWeek|meter_indexed|\n",
            "+-----+----------+------------------+----+-----+---------+-------------+\n",
            "| BR02|2019-07-10| 6.959999999999997|2019|    7|        4|         37.0|\n",
            "| BR02|2019-07-11| 4.910999999999991|2019|    7|        5|         37.0|\n",
            "| BR02|2019-07-13| 5.872999999999988|2019|    7|        7|         37.0|\n",
            "| BR02|2019-07-14| 5.457999999999984|2019|    7|        1|         37.0|\n",
            "| BR02|2019-07-15| 4.859999999999995|2019|    7|        2|         37.0|\n",
            "| BR02|2019-07-16| 4.281999999999985|2019|    7|        3|         37.0|\n",
            "| BR02|2019-07-17| 4.421999999999985|2019|    7|        4|         37.0|\n",
            "| BR02|2019-07-18|  4.33699999999998|2019|    7|        5|         37.0|\n",
            "| BR02|2019-07-19| 5.441999999999984|2019|    7|        6|         37.0|\n",
            "| BR02|2019-07-20| 5.650999999999988|2019|    7|        7|         37.0|\n",
            "| BR02|2019-07-30| 5.847999999999994|2019|    7|        3|         37.0|\n",
            "| BR02|2019-07-31|5.8319999999999865|2019|    7|        4|         37.0|\n",
            "| BR02|2019-08-01| 5.006999999999988|2019|    8|        5|         37.0|\n",
            "| BR02|2019-08-04| 7.383999999999983|2019|    8|        1|         37.0|\n",
            "| BR02|2019-08-05| 6.977999999999994|2019|    8|        2|         37.0|\n",
            "| BR02|2019-08-06|5.2839999999999945|2019|    8|        3|         37.0|\n",
            "| BR02|2019-08-07| 5.651999999999995|2019|    8|        4|         37.0|\n",
            "| BR02|2019-08-08|4.7749999999999835|2019|    8|        5|         37.0|\n",
            "| BR02|2019-08-09| 5.005999999999984|2019|    8|        6|         37.0|\n",
            "| BR02|2019-08-10|5.8899999999999775|2019|    8|        7|         37.0|\n",
            "+-----+----------+------------------+----+-----+---------+-------------+\n",
            "only showing top 20 rows\n",
            "\n"
          ]
        }
      ]
    },
    {
      "cell_type": "markdown",
      "source": [
        "PySpark's VectorAssembler to combine multiple feature columns into a single feature vector and then applying the StandardScaler to scale these features. The resulting DataFrame final_data contains the original columns along with the newly created \"features\" column, which holds the feature vectors."
      ],
      "metadata": {
        "id": "sogzCi5xXrtG"
      }
    },
    {
      "cell_type": "code",
      "source": [
        "from pyspark.ml.feature import VectorAssembler, StandardScaler\n",
        "\n",
        "# List of input feature columns for the assembler\n",
        "input_cols = ['Year', 'Month', 'DayOfWeek', 'meter_indexed']\n",
        "\n",
        "# Create the VectorAssembler\n",
        "assembler = VectorAssembler(inputCols=input_cols, outputCol='features')\n",
        "\n",
        "# Transform the data to create the feature vector\n",
        "final_data = assembler.transform(df)\n",
        "\n",
        "# View the transformed feature vector\n",
        "final_data.select('features').show()"
      ],
      "metadata": {
        "colab": {
          "base_uri": "https://localhost:8080/"
        },
        "id": "XGsx3C34T1__",
        "outputId": "1ff8aa77-1115-42c0-917a-7598066075c4"
      },
      "execution_count": null,
      "outputs": [
        {
          "output_type": "stream",
          "name": "stdout",
          "text": [
            "+--------------------+\n",
            "|            features|\n",
            "+--------------------+\n",
            "|[2019.0,7.0,4.0,3...|\n",
            "|[2019.0,7.0,5.0,3...|\n",
            "|[2019.0,7.0,7.0,3...|\n",
            "|[2019.0,7.0,1.0,3...|\n",
            "|[2019.0,7.0,2.0,3...|\n",
            "|[2019.0,7.0,3.0,3...|\n",
            "|[2019.0,7.0,4.0,3...|\n",
            "|[2019.0,7.0,5.0,3...|\n",
            "|[2019.0,7.0,6.0,3...|\n",
            "|[2019.0,7.0,7.0,3...|\n",
            "|[2019.0,7.0,3.0,3...|\n",
            "|[2019.0,7.0,4.0,3...|\n",
            "|[2019.0,8.0,5.0,3...|\n",
            "|[2019.0,8.0,1.0,3...|\n",
            "|[2019.0,8.0,2.0,3...|\n",
            "|[2019.0,8.0,3.0,3...|\n",
            "|[2019.0,8.0,4.0,3...|\n",
            "|[2019.0,8.0,5.0,3...|\n",
            "|[2019.0,8.0,6.0,3...|\n",
            "|[2019.0,8.0,7.0,3...|\n",
            "+--------------------+\n",
            "only showing top 20 rows\n",
            "\n"
          ]
        }
      ]
    },
    {
      "cell_type": "code",
      "source": [
        "df.write.csv(\"/content//preprocessed_data\")"
      ],
      "metadata": {
        "id": "NZiwN6jhTBB0"
      },
      "execution_count": null,
      "outputs": []
    },
    {
      "cell_type": "code",
      "source": [
        "from pyspark.sql.window import Window\n",
        "from pyspark.sql.functions import col, lag  # Import the lag function\n",
        "\n",
        "# Define a window specification for ordering the data by Date\n",
        "window_spec = Window.partitionBy(\"meter\").orderBy(\"Date\")\n",
        "\n",
        "# Add a lag column to calculate the difference in t_kWh between consecutive dates\n",
        "historical_data = historical_data.withColumn(\"t_kWh_lag\", lag(\"t_kWh\").over(window_spec))\n",
        "\n",
        "# Calculate the difference in t_kWh between consecutive dates\n",
        "historical_data = historical_data.withColumn(\"t_kWh_diff\", col(\"t_kWh\") - col(\"t_kWh_lag\"))\n",
        "\n",
        "# Show the DataFrame with the lag and difference columns\n",
        "historical_data.show()"
      ],
      "metadata": {
        "colab": {
          "base_uri": "https://localhost:8080/"
        },
        "id": "qYjmYOgcN_Tu",
        "outputId": "229d51a2-f588-4bd8-f79d-4efe10e4f653"
      },
      "execution_count": null,
      "outputs": [
        {
          "output_type": "stream",
          "name": "stdout",
          "text": [
            "+-----+----------+------------------+------------------+--------------------+\n",
            "|meter|      Date|             t_kWh|         t_kWh_lag|          t_kWh_diff|\n",
            "+-----+----------+------------------+------------------+--------------------+\n",
            "| BR02|2019-07-10| 6.959999999999997|              NULL|                NULL|\n",
            "| BR02|2019-07-11| 4.910999999999991| 6.959999999999997| -2.0490000000000066|\n",
            "| BR02|2019-07-13| 5.872999999999988| 4.910999999999991|  0.9619999999999971|\n",
            "| BR02|2019-07-14| 5.457999999999984| 5.872999999999988| -0.4150000000000036|\n",
            "| BR02|2019-07-15| 4.859999999999995| 5.457999999999984| -0.5979999999999892|\n",
            "| BR02|2019-07-16| 4.281999999999985| 4.859999999999995| -0.5780000000000101|\n",
            "| BR02|2019-07-17| 4.421999999999985| 4.281999999999985| 0.13999999999999968|\n",
            "| BR02|2019-07-18|  4.33699999999998| 4.421999999999985| -0.0850000000000044|\n",
            "| BR02|2019-07-19| 5.441999999999984|  4.33699999999998|   1.105000000000004|\n",
            "| BR02|2019-07-20| 5.650999999999988| 5.441999999999984| 0.20900000000000407|\n",
            "| BR02|2019-07-30| 5.847999999999994| 5.650999999999988|  0.1970000000000054|\n",
            "| BR02|2019-07-31|5.8319999999999865| 5.847999999999994|-0.01600000000000712|\n",
            "| BR02|2019-08-01| 5.006999999999988|5.8319999999999865| -0.8249999999999984|\n",
            "| BR02|2019-08-04| 7.383999999999983| 5.006999999999988|  2.3769999999999945|\n",
            "| BR02|2019-08-05| 6.977999999999994| 7.383999999999983|-0.40599999999998815|\n",
            "| BR02|2019-08-06|5.2839999999999945| 6.977999999999994|              -1.694|\n",
            "| BR02|2019-08-07| 5.651999999999995|5.2839999999999945|  0.3680000000000003|\n",
            "| BR02|2019-08-08|4.7749999999999835| 5.651999999999995| -0.8770000000000113|\n",
            "| BR02|2019-08-09| 5.005999999999984|4.7749999999999835| 0.23100000000000076|\n",
            "| BR02|2019-08-10|5.8899999999999775| 5.005999999999984|  0.8839999999999932|\n",
            "+-----+----------+------------------+------------------+--------------------+\n",
            "only showing top 20 rows\n",
            "\n"
          ]
        }
      ]
    },
    {
      "cell_type": "code",
      "source": [
        "from pyspark.sql import SparkSession\n",
        "from pyspark.ml.feature import VectorAssembler, StandardScaler\n",
        "from pyspark.ml import Pipeline\n",
        "from pyspark.ml.feature import StringIndexer\n",
        "from pyspark.ml.regression import LinearRegression"
      ],
      "metadata": {
        "id": "PPEx4fQ3PDxR"
      },
      "execution_count": null,
      "outputs": []
    },
    {
      "cell_type": "code",
      "source": [
        "bareilly2020= spark.read.csv(\"/content/CEEW - Smart meter data Bareilly 2020.csv\", header=True, inferSchema=True)"
      ],
      "metadata": {
        "id": "Ynb3mqYKeccH"
      },
      "execution_count": null,
      "outputs": []
    },
    {
      "cell_type": "code",
      "source": [
        "mh_aggr= spark.read.csv(\"/content/SM Cleaned Data MH Aggregated.csv\", header=True, inferSchema=True)"
      ],
      "metadata": {
        "id": "rrN9vFsTechW"
      },
      "execution_count": null,
      "outputs": []
    },
    {
      "cell_type": "code",
      "source": [
        "bareilly2020.show()"
      ],
      "metadata": {
        "colab": {
          "base_uri": "https://localhost:8080/"
        },
        "id": "YMrqPCNReck2",
        "outputId": "83718df7-a8ac-4c28-b4b0-c51d4ff449bc"
      },
      "execution_count": null,
      "outputs": [
        {
          "output_type": "stream",
          "name": "stdout",
          "text": [
            "+-------------------+-----+--------------------+-------------------+-----------+-----+\n",
            "|        x_Timestamp|t_kWh|z_Avg Voltage (Volt)|z_Avg Current (Amp)|y_Freq (Hz)|meter|\n",
            "+-------------------+-----+--------------------+-------------------+-----------+-----+\n",
            "|2020-01-01 00:00:00|0.002|              251.26|               0.15|      49.97| BR02|\n",
            "|2020-01-01 00:03:00|0.001|              251.23|               0.15|      49.94| BR02|\n",
            "|2020-01-01 00:06:00|0.001|              251.55|               0.14|      49.94| BR02|\n",
            "|2020-01-01 00:09:00|0.001|              251.97|               0.14|      50.09| BR02|\n",
            "|2020-01-01 00:12:00|0.002|              252.03|               0.14|      50.08| BR02|\n",
            "|2020-01-01 00:15:00|0.001|              251.78|               0.14|       50.0| BR02|\n",
            "|2020-01-01 00:18:00|0.001|              251.75|               0.13|      49.97| BR02|\n",
            "|2020-01-01 00:21:00|0.001|              251.95|               0.14|       50.0| BR02|\n",
            "|2020-01-01 00:24:00|0.002|              251.81|               0.14|      49.96| BR02|\n",
            "|2020-01-01 00:27:00|0.001|              252.05|               0.13|      49.95| BR02|\n",
            "|2020-01-01 00:30:00|0.001|              252.15|               0.14|       50.0| BR02|\n",
            "|2020-01-01 00:33:00|0.001|               252.1|               0.13|      49.98| BR02|\n",
            "|2020-01-01 00:36:00|0.001|              252.31|               0.13|       50.0| BR02|\n",
            "|2020-01-01 00:39:00|0.002|              252.57|               0.12|      50.02| BR02|\n",
            "|2020-01-01 00:42:00|0.001|              252.74|               0.13|      50.04| BR02|\n",
            "|2020-01-01 00:45:00|0.001|              252.84|               0.12|      50.05| BR02|\n",
            "|2020-01-01 00:48:00|0.001|              252.78|               0.13|      50.04| BR02|\n",
            "|2020-01-01 00:51:00|0.001|               253.0|               0.13|       50.0| BR02|\n",
            "|2020-01-01 00:54:00|0.001|              253.29|               0.12|       50.0| BR02|\n",
            "|2020-01-01 00:57:00|0.001|               253.4|               0.14|      49.98| BR02|\n",
            "+-------------------+-----+--------------------+-------------------+-----------+-----+\n",
            "only showing top 20 rows\n",
            "\n"
          ]
        }
      ]
    },
    {
      "cell_type": "code",
      "source": [
        "mh_aggr.show()"
      ],
      "metadata": {
        "colab": {
          "base_uri": "https://localhost:8080/"
        },
        "id": "LBdlgTOjeco7",
        "outputId": "f3fe903f-470b-4511-d382-66faf0203579"
      },
      "execution_count": null,
      "outputs": [
        {
          "output_type": "stream",
          "name": "stdout",
          "text": [
            "+-----+----------+------------------+\n",
            "|meter|      Date|             t_kWh|\n",
            "+-----+----------+------------------+\n",
            "| MH01|2019-05-01| 5.251999999999993|\n",
            "| MH01|2019-05-02| 4.769999999999991|\n",
            "| MH01|2019-05-03| 5.168999999999989|\n",
            "| MH01|2019-05-04| 5.409999999999985|\n",
            "| MH01|2019-05-05| 6.687999999999989|\n",
            "| MH01|2019-05-06| 4.576999999999985|\n",
            "| MH01|2019-05-07|4.6139999999999946|\n",
            "| MH01|2019-05-08| 6.325999999999978|\n",
            "| MH01|2019-05-09| 5.319999999999985|\n",
            "| MH01|2019-05-10| 5.591999999999995|\n",
            "| MH01|2019-05-11| 6.253999999999981|\n",
            "| MH01|2019-05-12| 5.568999999999966|\n",
            "| MH01|2019-05-13| 5.177999999999989|\n",
            "| MH01|2019-05-14| 4.852999999999985|\n",
            "| MH01|2019-05-15| 4.571999999999988|\n",
            "| MH01|2019-05-16| 3.712999999999984|\n",
            "| MH01|2019-05-17| 4.822999999999984|\n",
            "| MH01|2019-05-18|3.6519999999999926|\n",
            "| MH01|2019-05-19| 5.414999999999993|\n",
            "| MH01|2019-05-20|5.1029999999999776|\n",
            "+-----+----------+------------------+\n",
            "only showing top 20 rows\n",
            "\n"
          ]
        }
      ]
    },
    {
      "cell_type": "code",
      "source": [
        "# Calculate average, minimum, maximum, and other descriptive statistics\n",
        "descriptive_stats = bareilly2020.describe()\n",
        "\n",
        "# Show the descriptive statistics\n",
        "descriptive_stats.show()"
      ],
      "metadata": {
        "colab": {
          "base_uri": "https://localhost:8080/"
        },
        "id": "dEOfVNDJfRLg",
        "outputId": "e19f78cd-3fcd-4614-972d-6371b6e0aa53"
      },
      "execution_count": null,
      "outputs": [
        {
          "output_type": "stream",
          "name": "stdout",
          "text": [
            "+-------+--------------------+--------------------+-------------------+------------------+------+\n",
            "|summary|               t_kWh|z_Avg Voltage (Volt)|z_Avg Current (Amp)|       y_Freq (Hz)| meter|\n",
            "+-------+--------------------+--------------------+-------------------+------------------+------+\n",
            "|  count|              213423|              213423|             213423|            213423|213423|\n",
            "|   mean|0.012150330564178231|  235.05327776294777|  1.212646247124035|47.658409871461636|  NULL|\n",
            "| stddev|0.013913193542496973|   52.78063528085287| 1.2609885415554853|10.576343693161457|  NULL|\n",
            "|    min|                 0.0|                 0.0|                0.0|               0.0|  BR02|\n",
            "|    max|               0.172|              296.12|              14.23|            208.33|  BR04|\n",
            "+-------+--------------------+--------------------+-------------------+------------------+------+\n",
            "\n"
          ]
        }
      ]
    },
    {
      "cell_type": "code",
      "source": [
        "\n",
        "\n",
        "# Convert the 'x_Timestamp' column to a timestamp type\n",
        "bareilly2020 = bareilly2020.withColumn('x_Timestamp', col('x_Timestamp').cast('timestamp'))\n",
        "\n",
        "# Extract date and time-related features\n",
        "bareilly2020 = bareilly2020.withColumn('Year', F.year('x_Timestamp'))\n",
        "bareilly2020 = bareilly2020.withColumn('Month', F.month('x_Timestamp'))\n",
        "bareilly2020 = bareilly2020.withColumn('Day', F.dayofmonth('x_Timestamp'))\n",
        "bareilly2020 = bareilly2020.withColumn('Hour', F.hour('x_Timestamp'))\n",
        "bareilly2020 = bareilly2020.withColumn('Minute', F.minute('x_Timestamp'))\n",
        "bareilly2020 = bareilly2020.withColumn('Second', F.second('x_Timestamp'))\n",
        "\n",
        "# Define a window specification for ordering the data by timestamp\n",
        "window_spec = Window.partitionBy(\"meter\").orderBy(\"x_Timestamp\")\n",
        "\n",
        "# Add a lag column to calculate the difference in t_kWh between consecutive timestamps\n",
        "bareilly2020 = bareilly2020.withColumn(\"t_kWh_lag\", F.lag(\"t_kWh\").over(window_spec))\n",
        "\n",
        "# Calculate the difference in t_kWh between consecutive timestamps\n",
        "bareilly2020 = bareilly2020.withColumn(\"t_kWh_diff\", col(\"t_kWh\") - col(\"t_kWh_lag\"))\n",
        "\n",
        "# Show the DataFrame with the added date, time, and difference columns\n",
        "bareilly2020.show()"
      ],
      "metadata": {
        "colab": {
          "base_uri": "https://localhost:8080/"
        },
        "id": "E3-RDGXJfmAY",
        "outputId": "990d65cb-b4a6-426c-d9ec-512e24b3bc1f"
      },
      "execution_count": null,
      "outputs": [
        {
          "output_type": "stream",
          "name": "stdout",
          "text": [
            "+-------------------+-----+--------------------+-------------------+-----------+-----+----+-----+---+----+------+------+---------+----------+\n",
            "|        x_Timestamp|t_kWh|z_Avg Voltage (Volt)|z_Avg Current (Amp)|y_Freq (Hz)|meter|Year|Month|Day|Hour|Minute|Second|t_kWh_lag|t_kWh_diff|\n",
            "+-------------------+-----+--------------------+-------------------+-----------+-----+----+-----+---+----+------+------+---------+----------+\n",
            "|2020-01-01 00:00:00|0.002|              251.26|               0.15|      49.97| BR02|2020|    1|  1|   0|     0|     0|     NULL|      NULL|\n",
            "|2020-01-01 00:03:00|0.001|              251.23|               0.15|      49.94| BR02|2020|    1|  1|   0|     3|     0|    0.002|    -0.001|\n",
            "|2020-01-01 00:06:00|0.001|              251.55|               0.14|      49.94| BR02|2020|    1|  1|   0|     6|     0|    0.001|       0.0|\n",
            "|2020-01-01 00:09:00|0.001|              251.97|               0.14|      50.09| BR02|2020|    1|  1|   0|     9|     0|    0.001|       0.0|\n",
            "|2020-01-01 00:12:00|0.002|              252.03|               0.14|      50.08| BR02|2020|    1|  1|   0|    12|     0|    0.001|     0.001|\n",
            "|2020-01-01 00:15:00|0.001|              251.78|               0.14|       50.0| BR02|2020|    1|  1|   0|    15|     0|    0.002|    -0.001|\n",
            "|2020-01-01 00:18:00|0.001|              251.75|               0.13|      49.97| BR02|2020|    1|  1|   0|    18|     0|    0.001|       0.0|\n",
            "|2020-01-01 00:21:00|0.001|              251.95|               0.14|       50.0| BR02|2020|    1|  1|   0|    21|     0|    0.001|       0.0|\n",
            "|2020-01-01 00:24:00|0.002|              251.81|               0.14|      49.96| BR02|2020|    1|  1|   0|    24|     0|    0.001|     0.001|\n",
            "|2020-01-01 00:27:00|0.001|              252.05|               0.13|      49.95| BR02|2020|    1|  1|   0|    27|     0|    0.002|    -0.001|\n",
            "|2020-01-01 00:30:00|0.001|              252.15|               0.14|       50.0| BR02|2020|    1|  1|   0|    30|     0|    0.001|       0.0|\n",
            "|2020-01-01 00:33:00|0.001|               252.1|               0.13|      49.98| BR02|2020|    1|  1|   0|    33|     0|    0.001|       0.0|\n",
            "|2020-01-01 00:36:00|0.001|              252.31|               0.13|       50.0| BR02|2020|    1|  1|   0|    36|     0|    0.001|       0.0|\n",
            "|2020-01-01 00:39:00|0.002|              252.57|               0.12|      50.02| BR02|2020|    1|  1|   0|    39|     0|    0.001|     0.001|\n",
            "|2020-01-01 00:42:00|0.001|              252.74|               0.13|      50.04| BR02|2020|    1|  1|   0|    42|     0|    0.002|    -0.001|\n",
            "|2020-01-01 00:45:00|0.001|              252.84|               0.12|      50.05| BR02|2020|    1|  1|   0|    45|     0|    0.001|       0.0|\n",
            "|2020-01-01 00:48:00|0.001|              252.78|               0.13|      50.04| BR02|2020|    1|  1|   0|    48|     0|    0.001|       0.0|\n",
            "|2020-01-01 00:51:00|0.001|               253.0|               0.13|       50.0| BR02|2020|    1|  1|   0|    51|     0|    0.001|       0.0|\n",
            "|2020-01-01 00:54:00|0.001|              253.29|               0.12|       50.0| BR02|2020|    1|  1|   0|    54|     0|    0.001|       0.0|\n",
            "|2020-01-01 00:57:00|0.001|               253.4|               0.14|      49.98| BR02|2020|    1|  1|   0|    57|     0|    0.001|       0.0|\n",
            "+-------------------+-----+--------------------+-------------------+-----------+-----+----+-----+---+----+------+------+---------+----------+\n",
            "only showing top 20 rows\n",
            "\n"
          ]
        }
      ]
    },
    {
      "cell_type": "code",
      "source": [
        "# Convert the 'x_Timestamp' column to a date type\n",
        "bareilly2020 = bareilly2020.withColumn('x_Date', F.to_date('x_Timestamp'))\n",
        "\n",
        "# Group by 'x_Date' and perform the aggregations\n",
        "daily_aggregations = bareilly2020.groupBy('x_Date').agg(\n",
        "    F.sum('t_kWh').alias('Total_t_kWh'),\n",
        "    F.avg('z_Avg Voltage (Volt)').alias('Avg_Voltage'),\n",
        "    F.avg('z_Avg Current (Amp)').alias('Avg_Current')\n",
        ")\n",
        "# Order the DataFrame by 'x_Date'\n",
        "daily_aggregations = daily_aggregations.orderBy('x_Date')\n",
        "\n",
        "# Show the daily aggregations\n",
        "daily_aggregations.show()\n"
      ],
      "metadata": {
        "colab": {
          "base_uri": "https://localhost:8080/"
        },
        "id": "KqR70DRVgdem",
        "outputId": "6ac5428e-a8c7-4204-a83e-3618866d3208"
      },
      "execution_count": null,
      "outputs": [
        {
          "output_type": "stream",
          "name": "stdout",
          "text": [
            "+----------+------------------+------------------+-------------------+\n",
            "|    x_Date|       Total_t_kWh|       Avg_Voltage|        Avg_Current|\n",
            "+----------+------------------+------------------+-------------------+\n",
            "|2020-01-01|23.025000000000016|239.33704166666683| 1.4080486111111115|\n",
            "|2020-01-02|15.314999999999932|189.75137500000008| 0.9783888888888898|\n",
            "|2020-01-03| 14.22399999999993|243.98145138888898| 0.9267222222222219|\n",
            "|2020-01-04|14.499999999999968| 245.8882708333335|  1.395093750000003|\n",
            "|2020-01-05|14.901999999999976|247.45861458333346|  1.420624999999998|\n",
            "|2020-01-06|14.195999999999927| 241.3736597222219| 0.9703055555555548|\n",
            "|2020-01-07| 17.21099999999994|244.87427083333375|  1.078777777777778|\n",
            "|2020-01-08|11.620999999999915|233.65676388888872| 0.7782430555555563|\n",
            "|2020-01-10| 7.711999999999995|224.90322916666665|  1.415270833333333|\n",
            "|2020-01-11|18.529000000000014|241.62161458333333| 1.7231562500000004|\n",
            "|2020-01-12|            17.883| 257.5728541666667| 3.1107291666666645|\n",
            "|2020-01-13|18.125999999999973|232.86140972222222|  1.155590277777776|\n",
            "|2020-01-15|11.757999999999937|243.71968055555564| 0.7794861111111114|\n",
            "|2020-01-16| 9.656999999999991|247.02856250000005| 1.8827708333333362|\n",
            "|2020-01-17| 9.815999999999985|242.05395833333358| 1.9057499999999996|\n",
            "|2020-01-18|15.490000000000016| 241.8567638888887| 0.9889583333333285|\n",
            "|2020-01-19|0.5510000000000004|215.18927083333338|0.10833333333333295|\n",
            "|2020-01-20|20.792999999999978| 246.5634062500006| 1.9179999999999933|\n",
            "|2020-01-22| 5.938999999999989| 253.1772916666667| 1.0535416666666673|\n",
            "|2020-01-23| 16.54000000000006|243.90762499999983| 1.0304999999999955|\n",
            "+----------+------------------+------------------+-------------------+\n",
            "only showing top 20 rows\n",
            "\n"
          ]
        }
      ]
    },
    {
      "cell_type": "code",
      "source": [
        "\n",
        "# Extract the month from the 'x_Date' column\n",
        "daily_aggregations = daily_aggregations.withColumn('Month', F.month('x_Date'))\n",
        "\n",
        "# Calculate the maximum and minimum 'Total_t_kWh' for each month\n",
        "monthly_peak_lowest = daily_aggregations.groupBy('Month').agg(\n",
        "    F.max('Total_t_kWh').alias('Peak_Total_t_kWh'),\n",
        "    F.min('Total_t_kWh').alias('Lowest_Total_t_kWh'),\n",
        "    F.first('x_Date', ignorenulls=True).alias('Peak_Total_t_kWh_Date'),\n",
        "    F.last('x_Date', ignorenulls=True).alias('Lowest_Total_t_kWh_Date')\n",
        ")\n",
        "# Order the results by the 'Month' column in ascending order\n",
        "monthly_peak_lowest = monthly_peak_lowest.orderBy('Month')\n",
        "\n",
        "# Show the DataFrame with peak and lowest 'Total_t_kWh' for each month\n",
        "monthly_peak_lowest.show()"
      ],
      "metadata": {
        "colab": {
          "base_uri": "https://localhost:8080/"
        },
        "id": "qafoZZX-g6J7",
        "outputId": "76743145-433e-429d-90a4-7981491c4184"
      },
      "execution_count": null,
      "outputs": [
        {
          "output_type": "stream",
          "name": "stdout",
          "text": [
            "+-----+------------------+------------------+---------------------+-----------------------+\n",
            "|Month|  Peak_Total_t_kWh|Lowest_Total_t_kWh|Peak_Total_t_kWh_Date|Lowest_Total_t_kWh_Date|\n",
            "+-----+------------------+------------------+---------------------+-----------------------+\n",
            "|    1|23.025000000000016|0.5510000000000004|           2020-01-01|             2020-01-31|\n",
            "|    2|15.287000000000008| 4.252999999999972|           2020-02-01|             2020-02-29|\n",
            "|    3| 15.53299999999991| 5.849999999999981|           2020-03-01|             2020-03-31|\n",
            "|    4|            18.044| 4.203999999999993|           2020-04-01|             2020-04-23|\n",
            "|    5|15.037999999999972| 7.390999999999981|           2020-05-01|             2020-05-31|\n",
            "|    6|20.617999999999963| 7.312999999999973|           2020-06-01|             2020-06-12|\n",
            "|    7| 18.81999999999997| 6.853999999999989|           2020-07-16|             2020-07-29|\n",
            "|    8| 18.78399999999986| 7.197999999999989|           2020-08-11|             2020-08-31|\n",
            "|    9|23.162000000000017| 7.535999999999987|           2020-09-01|             2020-09-30|\n",
            "|   10|10.601999999999979| 4.313999999999971|           2020-10-01|             2020-10-31|\n",
            "|   11| 5.409999999999969| 1.519999999999996|           2020-11-01|             2020-11-29|\n",
            "|   12| 3.302999999999988|1.1499999999999955|           2020-12-10|             2020-12-21|\n",
            "+-----+------------------+------------------+---------------------+-----------------------+\n",
            "\n"
          ]
        }
      ]
    },
    {
      "cell_type": "code",
      "source": [
        "# Assuming you have a DataFrame 'daily_aggregations' with a column named 'Total_t_kWh'\n",
        "data = np.array(daily_aggregations.select(\"Total_t_kWh\").rdd.flatMap(lambda x: x).collect())\n",
        "\n",
        "# Create a histogram\n",
        "plt.hist(data, bins=10, color=\"steelblue\", edgecolor=\"black\")\n",
        "\n",
        "# Set labels and title\n",
        "plt.xlabel(\"Total_t_kWh\")\n",
        "plt.ylabel(\"Frequency\")\n",
        "plt.title(\"Histogram for daily_aggregations\")\n",
        "\n",
        "# Show the plot\n",
        "plt.show()\n",
        "\n"
      ],
      "metadata": {
        "colab": {
          "base_uri": "https://localhost:8080/",
          "height": 472
        },
        "id": "3IOrkbb2kE7T",
        "outputId": "183ae06a-9311-4e13-d990-9789699c8704"
      },
      "execution_count": null,
      "outputs": [
        {
          "output_type": "display_data",
          "data": {
            "text/plain": [
              "<Figure size 640x480 with 1 Axes>"
            ],
            "image/png": "[encoded data removed]"
          },
          "metadata": {}
        }
      ]
    },
    {
      "cell_type": "code",
      "source": [
        "\n",
        "\n",
        "# Perform monthly aggregation\n",
        "monthly_aggregation = df.groupBy(\"Year\", \"Month\").agg({\"t_kWh\": \"sum\"}).withColumnRenamed(\"sum(t_kWh)\", \"Monthly_t_kWh\")\n",
        "\n",
        "# Order the DataFrame by year and month\n",
        "monthly_aggregation = monthly_aggregation.orderBy(\"Year\", \"Month\")\n",
        "\n",
        "# Show the ordered monthly aggregation\n",
        "monthly_aggregation.show()\n"
      ],
      "metadata": {
        "colab": {
          "base_uri": "https://localhost:8080/"
        },
        "id": "-28WAUvJlDlL",
        "outputId": "543e8464-dc49-4b37-99e2-30afdde7b115"
      },
      "execution_count": null,
      "outputs": [
        {
          "output_type": "stream",
          "name": "stdout",
          "text": [
            "+----+-----+------------------+\n",
            "|Year|Month|     Monthly_t_kWh|\n",
            "+----+-----+------------------+\n",
            "|2019|    5| 308.6099999999997|\n",
            "|2019|    6| 459.6659999999996|\n",
            "|2019|    7| 3178.816999999997|\n",
            "|2019|    8| 9876.701999999987|\n",
            "|2019|    9|10708.592000000002|\n",
            "|2019|   10| 7527.386999999978|\n",
            "|2019|   11| 5262.442999999988|\n",
            "|2019|   12|5972.8450000000075|\n",
            "|2020|    1| 7041.726999999996|\n",
            "|2020|    2| 5512.663999999983|\n",
            "|2020|    3| 5704.185999999984|\n",
            "|2020|    4| 8163.276999999987|\n",
            "|2020|    5|10726.192999999985|\n",
            "|2020|    6|14669.429999999977|\n",
            "|2020|    7|         13810.638|\n",
            "|2020|    8| 13476.67100000001|\n",
            "|2020|    9| 11913.70399999998|\n",
            "|2020|   10| 9022.416999999987|\n",
            "|2020|   11| 4795.527999999992|\n",
            "|2020|   12|6025.9499999999825|\n",
            "+----+-----+------------------+\n",
            "only showing top 20 rows\n",
            "\n"
          ]
        }
      ]
    },
    {
      "cell_type": "code",
      "source": [
        "# Plot the Monthly_t_kWh by month for each year using a scatter line graph\n",
        "unique_years = [row[\"Year\"] for row in monthly_aggregation.select(\"Year\").distinct().collect()]\n",
        "\n",
        "for year in unique_years:\n",
        "    data = np.array(monthly_aggregation.filter(monthly_aggregation[\"Year\"] == year)\n",
        "                  .select(\"Month\", \"Monthly_t_kWh\").orderBy(\"Month\")\n",
        "                  .rdd.flatMap(lambda x: x).collect())\n",
        "\n",
        "    # Extract 'Month' and 'Monthly_t_kWh' values for the current year\n",
        "    months = data[::2]\n",
        "    t_kWh_values = data[1::2]\n",
        "\n",
        "    # Create a scatter line graph\n",
        "    plt.plot(months, t_kWh_values, label=f\"Year {year}\", marker='o', linestyle='-')\n",
        "\n",
        "# Set labels and title\n",
        "plt.xlabel(\"Month\")\n",
        "plt.ylabel(\"Monthly_t_kWh\")\n",
        "plt.title(\"Monthly Aggregation by Year\")\n",
        "\n",
        "# Add a legend to differentiate years\n",
        "plt.legend()\n",
        "\n",
        "# Show the plot\n",
        "plt.show()\n"
      ],
      "metadata": {
        "colab": {
          "base_uri": "https://localhost:8080/",
          "height": 472
        },
        "id": "oV7tP1ljlM1q",
        "outputId": "cceb4bfd-0f5a-4810-cd04-012b29c6170e"
      },
      "execution_count": null,
      "outputs": [
        {
          "output_type": "display_data",
          "data": {
            "text/plain": [
              "<Figure size 640x480 with 1 Axes>"
            ],
            "image/png": "[encoded data removed]"
          },
          "metadata": {}
        }
      ]
    },
    {
      "cell_type": "markdown",
      "source": [
        "In PySpark, a pipeline is a powerful feature that allows you to streamline and automate the workflow for building and deploying machine learning models. It combines multiple stages, such as data preprocessing, feature engineering, and model training, into a single, reusable, and efficient process. Pipelines help ensure consistency, simplify code, and make it easier to manage the end-to-end machine learning process."
      ],
      "metadata": {
        "id": "4bXnnOcwYbAy"
      }
    },
    {
      "cell_type": "code",
      "source": [
        "#trying to create a pipeline"
      ],
      "metadata": {
        "id": "AFKqP4R-Y0ag"
      },
      "execution_count": null,
      "outputs": []
    },
    {
      "cell_type": "code",
      "source": [
        "# Split Data into Training and Testing Sets\n",
        "(training_data, testing_data) = historical_data.randomSplit([0.8, 0.2], seed=42)\n"
      ],
      "metadata": {
        "id": "sQpWoxAkQQpB"
      },
      "execution_count": null,
      "outputs": []
    },
    {
      "cell_type": "code",
      "source": [
        "from pyspark.ml.feature import VectorAssembler\n",
        "from pyspark.ml.regression import LinearRegression\n",
        "from pyspark.ml.evaluation import RegressionEvaluator"
      ],
      "metadata": {
        "id": "zz7gg6vRpnjM"
      },
      "execution_count": null,
      "outputs": []
    },
    {
      "cell_type": "code",
      "source": [
        "# Prepare the data\n",
        "assembler = VectorAssembler(inputCols=[\"Year\", \"Month\", \"DayOfWeek\"], outputCol=\"features\")\n",
        "# df = assembler.transform(df)\n",
        "train_data, test_data = df.randomSplit([0.8, 0.2], seed=123)\n",
        "\n",
        "# Train a Linear Regression model\n",
        "lr = LinearRegression(featuresCol=\"features\", labelCol=\"t_kWh\")\n",
        "model = lr.fit(train_data)\n",
        "\n",
        "# Make predictions on the test data\n",
        "predictions = model.transform(test_data)\n",
        "\n",
        "# Calculate accuracy (for regression, commonly use RMSE)\n",
        "evaluator = RegressionEvaluator(labelCol=\"t_kWh\", predictionCol=\"prediction\", metricName=\"rmse\")\n",
        "rmse = evaluator.evaluate(predictions)\n",
        "\n",
        "# Print the RMSE\n",
        "print(f\"Root Mean Squared Error (RMSE): {rmse}\")\n",
        "\n",
        "# Optionally, create plots\n",
        "plt.scatter(predictions.select(\"t_kWh\").collect(), predictions.select(\"prediction\").collect())\n",
        "plt.xlabel(\"True Values\")\n",
        "plt.ylabel(\"Predictions\")\n",
        "plt.title(\"True vs. Predicted Values\")\n",
        "plt.show()"
      ],
      "metadata": {
        "id": "JQ3ozf46PYJ4",
        "colab": {
          "base_uri": "https://localhost:8080/",
          "height": 490
        },
        "outputId": "23c16243-496b-4e97-c4ae-0cac35571fe5"
      },
      "execution_count": null,
      "outputs": [
        {
          "output_type": "stream",
          "name": "stdout",
          "text": [
            "Root Mean Squared Error (RMSE): 7.398608967227406\n"
          ]
        },
        {
          "output_type": "display_data",
          "data": {
            "text/plain": [
              "<Figure size 640x480 with 1 Axes>"
            ],
            "image/png": "[encoded data removed]"
          },
          "metadata": {}
        }
      ]
    },
    {
      "cell_type": "code",
      "source": [
        "# Get the true values and predicted values\n",
        "true_values = predictions.select(\"t_kWh\").collect()\n",
        "predicted_values = predictions.select(\"prediction\").collect()\n"
      ],
      "metadata": {
        "id": "UPSjI-PcrM6m"
      },
      "execution_count": null,
      "outputs": []
    },
    {
      "cell_type": "code",
      "source": [
        "#Create a line plot\n",
        "plt.plot(true_values, label=\"True Values\", marker='o')\n",
        "plt.plot(predicted_values, label=\"Predicted Values\", marker='x')\n",
        "\n",
        "# Add labels and a legend\n",
        "plt.xlabel(\"Data Points\")\n",
        "plt.ylabel(\"Values\")\n",
        "plt.title(\"True vs. Predicted Values\")\n",
        "plt.legend()\n",
        "\n",
        "# Show the plot\n",
        "plt.show()"
      ],
      "metadata": {
        "id": "HPWf0UAprJQ1",
        "outputId": "d84c252c-1c97-48da-cf64-b64937af3c7a",
        "colab": {
          "base_uri": "https://localhost:8080/",
          "height": 472
        }
      },
      "execution_count": null,
      "outputs": [
        {
          "output_type": "display_data",
          "data": {
            "text/plain": [
              "<Figure size 640x480 with 1 Axes>"
            ],
            "image/png": "[encoded data removed]"
          },
          "metadata": {}
        }
      ]
    },
    {
      "cell_type": "code",
      "source": [
        "import seaborn as sns\n"
      ],
      "metadata": {
        "id": "T6CVrL0gpKww"
      },
      "execution_count": null,
      "outputs": []
    },
    {
      "cell_type": "code",
      "source": [
        "\n",
        "# Create a heatmap of the data\n",
        "correlation_matrix = df.select(\"t_kWh\", \"Year\", \"Month\", \"DayOfWeek\").toPandas().corr()\n",
        "plt.figure(figsize=(8, 6))\n",
        "sns.heatmap(correlation_matrix, annot=True, cmap=\"coolwarm\")\n",
        "plt.title(\"Correlation Heatmap\")\n",
        "plt.show()"
      ],
      "metadata": {
        "colab": {
          "base_uri": "https://localhost:8080/",
          "height": 545
        },
        "id": "fVb4Kz59p3ul",
        "outputId": "94a5e4a1-f2ae-4a1d-8ece-864ea813fa3b"
      },
      "execution_count": null,
      "outputs": [
        {
          "output_type": "display_data",
          "data": {
            "text/plain": [
              "<Figure size 800x600 with 2 Axes>"
            ],
            "image/png": "[encoded data removed]"
          },
          "metadata": {}
        }
      ]
    },
    {
      "cell_type": "code",
      "source": [],
      "metadata": {
        "id": "-7K7H1EZp7YW"
      },
      "execution_count": null,
      "outputs": []
    },
    {
      "cell_type": "code",
      "source": [],
      "metadata": {
        "id": "lhZJttShpcvW"
      },
      "execution_count": null,
      "outputs": []
    }
  ]
}